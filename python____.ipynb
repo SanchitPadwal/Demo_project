{
 "cells": [
  {
   "cell_type": "code",
   "execution_count": 3,
   "id": "42f707b2-ff4b-43fa-b3ad-f869152b27c6",
   "metadata": {},
   "outputs": [
    {
     "name": "stdout",
     "output_type": "stream",
     "text": [
      "hello\n"
     ]
    }
   ],
   "source": [
    "print (\"hello\")"
   ]
  },
  {
   "cell_type": "code",
   "execution_count": 6,
   "id": "3a032a66-a9cb-4fce-be70-cd8d7d67c24b",
   "metadata": {},
   "outputs": [
    {
     "data": {
      "text/plain": [
       "'Padwal'"
      ]
     },
     "execution_count": 6,
     "metadata": {},
     "output_type": "execute_result"
    }
   ],
   "source": [
    "#Variables in python\n",
    "\n",
    "name='Sanchit'    #name is variable and sanchit is value\n",
    "name\n",
    "\n",
    "Last_name = 'Padwal'  #  _ underscore use only inside a variable\n",
    "Last_name"
   ]
  },
  {
   "cell_type": "code",
   "execution_count": 15,
   "id": "525b9d66-0818-4dfc-bf4a-0d5cf5015df2",
   "metadata": {},
   "outputs": [],
   "source": [
    "#data type\n",
    "# 1 Numeric data type\n",
    "#int\n",
    "# a=10\n",
    "# type(a)\n",
    "\n",
    "#float\n",
    "# a=10.0\n",
    "# type(a)\n",
    "\n",
    "#complex\n",
    "#c=a+bj\n",
    "#type(c)\n",
    "\n"
   ]
  },
  {
   "cell_type": "code",
   "execution_count": 4,
   "id": "d2b84fb6-35af-49e1-b0db-94eda185cd7b",
   "metadata": {},
   "outputs": [
    {
     "data": {
      "text/plain": [
       "'p'"
      ]
     },
     "execution_count": 4,
     "metadata": {},
     "output_type": "execute_result"
    }
   ],
   "source": [
    "# 2 text data type\n",
    "\n",
    "#String\n",
    "\n",
    "# str1='python'\n",
    "# type(str1)\n",
    "\n",
    "# str2=\"hi hello ,  how are you\"\n",
    "# type(str2)\n",
    "\n",
    "#Indexing\n",
    "#positive indexing\n",
    "\n",
    "# text = 'python'\n",
    "# text[2]\n",
    "# text[3]\n",
    "\n",
    "#Negative indexing\n",
    "# text='python'\n",
    "# text[-1]\n",
    "# text[-6]\n",
    "\n"
   ]
  },
  {
   "cell_type": "code",
   "execution_count": 16,
   "id": "f05ab115-f3dd-4e3f-902d-e771bcc6ba27",
   "metadata": {},
   "outputs": [
    {
     "name": "stdout",
     "output_type": "stream",
     "text": [
      "True\n",
      "True\n",
      "False\n"
     ]
    }
   ],
   "source": [
    "# 3 Boolean\n",
    "\n",
    "# print(True or False )\n",
    "# print(True and False)\n",
    "# print(not True)\n",
    "\n",
    "# print(5>2)\n",
    "# print(5<8)\n",
    "# print(5>2)\n",
    "# print(5>9)\n"
   ]
  },
  {
   "cell_type": "code",
   "execution_count": 21,
   "id": "cc3942b3-ccf7-41b1-8c54-9b0da873abbb",
   "metadata": {},
   "outputs": [
    {
     "name": "stdout",
     "output_type": "stream",
     "text": [
      "None\n"
     ]
    }
   ],
   "source": [
    "#None\n",
    "\n",
    "# print(None)\n",
    "# print(type(None))\n",
    "\n",
    "# def no_return():\n",
    "#     pass\n",
    "\n",
    "# print(no_return())\n",
    "\n"
   ]
  },
  {
   "cell_type": "code",
   "execution_count": 31,
   "id": "ab38ef15-4a38-4ad9-92e0-ae2bf98bf367",
   "metadata": {},
   "outputs": [
    {
     "data": {
      "text/plain": [
       "list"
      ]
     },
     "execution_count": 31,
     "metadata": {},
     "output_type": "execute_result"
    }
   ],
   "source": [
    "#DATA STRUCTURE : \n",
    "\n",
    "# List : --- [ ]  and  mutable type , stored homogenous and heterogenous \n",
    "\n",
    "# d=[]   #--Empty list \n",
    "# type(d)\n",
    "\n",
    "# student = ['Virat' , 'Rohit' , 'Ishan' ,'Pant']\n",
    "# print(\"List : \" , student)\n",
    "\n",
    "# list1 = [1,2,'python',3,'SQl']\n",
    "# print(list1)\n",
    "# type(list1)\n",
    "\n",
    "#indexing\n",
    "\n",
    "# student = ['Virat' , 'Rohit' , 'Ishan' ,'Pant']\n",
    "# student[2]\n",
    "# student[-3]\n",
    "# student[-1]"
   ]
  },
  {
   "cell_type": "code",
   "execution_count": 40,
   "id": "9a83ca76-0a25-43f5-8797-aa4f4e94628c",
   "metadata": {},
   "outputs": [
    {
     "name": "stdout",
     "output_type": "stream",
     "text": [
      "10\n",
      "20\n",
      "30\n",
      "40\n"
     ]
    }
   ],
   "source": [
    "#List is a mutable means we perform operation like insert , delete , update\n",
    "\n",
    "#add element :\n",
    "\n",
    "#1) insert \n",
    "#2) append\n",
    "#3) extend \n",
    "\n",
    "#insert\n",
    "\n",
    "# a=[100,200,300,400]\n",
    "# a\n",
    "# a.insert(2,500)\n",
    "# a\n",
    "\n",
    "#append\n",
    "\n",
    "# p=[10,20,30,40]\n",
    "# p.append(50)\n",
    "# p\n",
    "\n",
    "#extend\n",
    "# e=[10,20,30,40]\n",
    "# o=[50,60]\n",
    "# e.extend(o)\n",
    "# e\n",
    "\n",
    "#list is a iterable : tranversed or iterated over \n",
    "\n",
    "# list = [10,20,30,40]\n",
    "# for item in list:\n",
    "#     print(item)\n",
    "\n"
   ]
  },
  {
   "cell_type": "code",
   "execution_count": 43,
   "id": "0b151a7c-4a1c-4cd8-a4b2-f5b0e1d5f407",
   "metadata": {},
   "outputs": [
    {
     "data": {
      "text/plain": [
       "[]"
      ]
     },
     "execution_count": 43,
     "metadata": {},
     "output_type": "execute_result"
    }
   ],
   "source": [
    "# Delete items from the list : \n",
    "\n",
    "#remove()\n",
    "#pop()\n",
    "#clear()\n",
    "\n",
    "#remove() :  value based\n",
    "# list = [10,20,30,40] \n",
    "# list.remove(20)\n",
    "# list\n",
    "\n",
    "#pop() : index based\n",
    "\n",
    "# list = [10,20,30,40] \n",
    "# list.pop(2)\n",
    "# list\n",
    "\n",
    "#clear() : all list clear\n",
    "\n",
    "# list = [10,20,30,40] \n",
    "# list.clear()\n",
    "# list\n"
   ]
  },
  {
   "cell_type": "code",
   "execution_count": 47,
   "id": "5f28cde8-88cc-4632-ac55-0498ada140cd",
   "metadata": {},
   "outputs": [
    {
     "data": {
      "text/plain": [
       "[10, 20, 'python', 40]"
      ]
     },
     "execution_count": 47,
     "metadata": {},
     "output_type": "execute_result"
    }
   ],
   "source": [
    "#Update list :  indexing use to access that value\n",
    "\n",
    "# list = [10,20,30,40] \n",
    "# list[2] = 'python'\n",
    "# list\n",
    "\n",
    "# list = [10,20,30,40] \n",
    "# list[-4] = 'python'\n",
    "# list"
   ]
  },
  {
   "cell_type": "code",
   "execution_count": 49,
   "id": "8f02bfbe-45e5-4554-bf28-e5709d8c8629",
   "metadata": {},
   "outputs": [
    {
     "data": {
      "text/plain": [
       "[40, 35, 30, 25, 20, 15, 10, 5]"
      ]
     },
     "execution_count": 49,
     "metadata": {},
     "output_type": "execute_result"
    }
   ],
   "source": [
    "#Some method of list data structure\n",
    "\n",
    "#sort()  -- ascending or decending order   #use sort method data type shoulde be similar\n",
    "\n",
    "# list = [10,20,30,40,5,15,25,35] \n",
    "# list.sort()\n",
    "# list   #print outpur asc order\n",
    "\n",
    "\n",
    "# list = [10,20,30,40,5,15,25,35] \n",
    "# list.sort(reverse=True)\n",
    "# list  #print outpur desc order\n"
   ]
  },
  {
   "cell_type": "code",
   "execution_count": 50,
   "id": "d037e45f-efc0-4278-98f2-76de0ac8ef43",
   "metadata": {},
   "outputs": [
    {
     "data": {
      "text/plain": [
       "[35, 25, 15, 5, 40, 30, 20, 10]"
      ]
     },
     "execution_count": 50,
     "metadata": {},
     "output_type": "execute_result"
    }
   ],
   "source": [
    "#reverse() : reverse the order of the item in the list\n",
    "\n",
    "# list = [10,20,30,40,5,15,25,35] \n",
    "# list.reverse()\n",
    "# list\n"
   ]
  },
  {
   "cell_type": "code",
   "execution_count": 55,
   "id": "b200487f-7dab-48ea-90c3-e5e0d8ddd318",
   "metadata": {},
   "outputs": [
    {
     "name": "stdout",
     "output_type": "stream",
     "text": [
      "3\n"
     ]
    }
   ],
   "source": [
    "#count() -- return the number of occurrence of a specified item in list\n",
    "\n",
    "# list = [10,20,30,40,5,15,25,35,10,40,10] \n",
    "# result = list.count(10)  #pass value of which count you want\n",
    "# print(result)\n"
   ]
  },
  {
   "cell_type": "code",
   "execution_count": 57,
   "id": "7b881510-0faa-4aac-9764-d243e9971a5e",
   "metadata": {},
   "outputs": [
    {
     "data": {
      "text/plain": [
       "11"
      ]
     },
     "execution_count": 57,
     "metadata": {},
     "output_type": "execute_result"
    }
   ],
   "source": [
    "#len() : return the number of item in list\n",
    "\n",
    "list = [10,20,30,40,5,15,25,35,10,40,10] \n",
    "result = len(list)\n",
    "result\n"
   ]
  },
  {
   "cell_type": "code",
   "execution_count": 58,
   "id": "1073c6ad-42e3-4a3d-9717-594db60a909c",
   "metadata": {},
   "outputs": [
    {
     "data": {
      "text/plain": [
       "4"
      ]
     },
     "execution_count": 58,
     "metadata": {},
     "output_type": "execute_result"
    }
   ],
   "source": [
    "#index() : - tells as index no. of particular value\n",
    "\n",
    "list = [10,20,30,40,5,15,25,35,10,40,10] \n",
    "result = list.index(5)\n",
    "result\n"
   ]
  },
  {
   "cell_type": "code",
   "execution_count": 59,
   "id": "198b01de-7fb7-4e4c-a065-20d03efb634d",
   "metadata": {},
   "outputs": [
    {
     "data": {
      "text/plain": [
       "[10, 20, 30, 40, 5, 15, 25, 35, 10, 40, 10]"
      ]
     },
     "execution_count": 59,
     "metadata": {},
     "output_type": "execute_result"
    }
   ],
   "source": [
    "#Copy : returns copy of your list \n",
    "list = [10,20,30,40,5,15,25,35,10,40,10] \n",
    "b= list.copy()\n",
    "b"
   ]
  },
  {
   "cell_type": "code",
   "execution_count": null,
   "id": "d2dc0d7e-c01c-4e44-abdc-b6a63b1df7d2",
   "metadata": {},
   "outputs": [],
   "source": [
    "#----------------------------------------------------------------------------------"
   ]
  },
  {
   "cell_type": "code",
   "execution_count": 11,
   "id": "a875fe12-03f9-4ddb-a340-cea31bfd36ac",
   "metadata": {},
   "outputs": [
    {
     "name": "stdout",
     "output_type": "stream",
     "text": [
      "python\n"
     ]
    }
   ],
   "source": [
    "#TUPLE :  () \n",
    "\n",
    "# a = (1,2,3,4,5)\n",
    "# a\n",
    "\n",
    "# a = (1,2,3,4,5)\n",
    "# #a.index(2)\n",
    "\n",
    "# count = len(a)\n",
    "# count\n",
    "\n",
    "# inside list add tuple\n",
    "\n",
    "a = [1,2,3,'python',4,(10,20,30)]\n",
    "a\n",
    "\n",
    "# list is mutable ,  Tuple is immutable\n",
    "\n",
    "a = (1,2,3,4,[5,7,8,'python'])\n",
    "a\n",
    "print(a[4][3])   # python element access\n"
   ]
  },
  {
   "cell_type": "code",
   "execution_count": 42,
   "id": "b936d84b-6560-4fbb-9a11-1b5a7f42e695",
   "metadata": {},
   "outputs": [
    {
     "data": {
      "text/plain": [
       "False"
      ]
     },
     "execution_count": 42,
     "metadata": {},
     "output_type": "execute_result"
    }
   ],
   "source": [
    "#SET :  { }\n",
    "\n",
    "# empty set \n",
    "# a=set()\n",
    "# a.type()\n",
    "\n",
    "# a = {2,3,4,5}\n",
    "# a\n",
    "\n",
    "#add : \n",
    "\n",
    "# a = {2,4,5,6}\n",
    "# a.add('python')   # no indexing  , added at any random location\n",
    "# a\n",
    "\n",
    "#update : use to add multiple item into set\n",
    "\n",
    "# a= {2,3,4,5}\n",
    "# b={'a' , 'b' ,'c'}      # insert item b into a \n",
    "# a.update(b)\n",
    "# print(a)\n",
    "\n",
    "#Deletion/Removing : \n",
    "\n",
    "# a={'b', 2, 3, 4, 5, 'a', 'c'}\n",
    "# a.remove('a')\n",
    "#print(a)   # a removed inside a set , In a set provide a value not indexing \n",
    "# print(h)  #give error bcz h not avilable in set\n",
    "\n",
    "#discard : same as remove method , only diff in discard value not present then not give error\n",
    "# a.discard(10)  \n",
    "# a\n",
    "\n",
    "\n",
    "#pop :  randomly element remove \n",
    "# a={'b', 2, 3, 4, 5, 'a', 'c'}\n",
    "# a.pop()\n",
    "# a\n",
    "\n",
    "#Two set presnt then perform diff operation\n",
    "Loan = {'a' , 'b' ,'c' ,'d'}\n",
    "credit = {'c' , 'a' ,'h' ,'j'}\n",
    "\n",
    "#intersection - give common element\n",
    "#Loan.intersection(credit)\n",
    "\n",
    "#difference  - give uncommon element\n",
    "# Loan.difference(credit)\n",
    "\n",
    "#union - combine two or more set\n",
    "#Loan.union(credit)\n",
    "\n",
    "#symmetricdifference\n",
    "# Loan.symmetric_difference(credit)\n",
    "\n",
    "#isset , issubset , isdisjoint\n"
   ]
  },
  {
   "cell_type": "code",
   "execution_count": 67,
   "id": "8604304b-83f3-47ce-850f-3191fd254eea",
   "metadata": {},
   "outputs": [
    {
     "data": {
      "text/plain": [
       "{'a': 1, 'b': 2}"
      ]
     },
     "execution_count": 67,
     "metadata": {},
     "output_type": "execute_result"
    }
   ],
   "source": [
    "#Dictionary : {}\n",
    "\n",
    "# {key : value}\n",
    "\n",
    "#empty dict\n",
    "# a={}\n",
    "# a\n",
    "\n",
    "#Access value of dict : \n",
    "\n",
    "# a = {'a' : 1 , 'b' : 2 , 'c' : 3}\n",
    "# a\n",
    "\n",
    "# print(a['c'])\n",
    "#print(a['d'])  #showing error bcz key is not avilable\n",
    "\n",
    "#get() :\n",
    "# a = {'a' : 1 , 'b' : 2 , 'c' : 3}\n",
    "# print(a.get('b'));\n",
    "# print(a.get('d'));  #not  give error ,\n",
    "\n",
    "\n",
    "#Insert new key value pair in dict :\n",
    "\n",
    "# a = {'a' : 1 , 'b' : 2 , 'c' : 3}\n",
    "# a['d']=4   #inserted to a dict\n",
    "# a\n",
    "\n",
    "\n",
    "# #Update : multiple key value pair inserted\n",
    "# a = {'a' : 1 , 'b' : 2 , 'c' : 3}\n",
    "# a.update({'name' : 'python' , 'score' : 90})\n",
    "# a\n",
    "\n",
    "# a.keys()   # shows keys \n",
    "# a.values() # shows vales\n",
    "# a.items()  # shows key:value pair \n",
    "\n",
    "#FromKeys() : \n",
    "\n",
    "# a = [10,20,30,40]\n",
    "# c = dict.Fromkeys(a)\n",
    "# print(c)\n",
    "\n",
    "# 1 key multiple value possible\n",
    "# a = {'Name' : ['sanchit' , 'rohit' ,'virat'],\n",
    "#       'Adress' : ['pune' , 'dharashiv' , 'mumbai'],\n",
    "#        'Sports' : ['cricket' , 'cricket' , 'cricket']};\n",
    "# a\n",
    "\n",
    "#setdefault()\n",
    "\n",
    "# a = {'a' : 1  , 'b' : 2 , 'c' : 3}\n",
    "# a.setdefault('d',4)\n",
    "# a.setdefault('b',5)  #b already present , not inserted\n",
    "# a\n",
    "\n",
    "#pop()  -- key is same work as indexing \n",
    "a = {'a' : 1  , 'b' : 2 , 'c' : 3}\n",
    "a.pop('c')\n",
    "a"
   ]
  },
  {
   "cell_type": "code",
   "execution_count": 61,
   "id": "d4dd076d-7095-49f1-8fc0-83ab168ade09",
   "metadata": {},
   "outputs": [
    {
     "data": {
      "text/plain": [
       "set"
      ]
     },
     "execution_count": 61,
     "metadata": {},
     "output_type": "execute_result"
    }
   ],
   "source": [
    "a={1,2,3,4,5,'a'}\n",
    "a\n",
    "type(a)"
   ]
  },
  {
   "cell_type": "code",
   "execution_count": 75,
   "id": "e016c4f5-e5c0-41a6-ba9a-0be0ba9c3e72",
   "metadata": {},
   "outputs": [
    {
     "name": "stdout",
     "output_type": "stream",
     "text": [
      "<class 'str'>\n"
     ]
    },
    {
     "data": {
      "text/plain": [
       "\"python is 'good' language\""
      ]
     },
     "execution_count": 75,
     "metadata": {},
     "output_type": "execute_result"
    }
   ],
   "source": [
    "#STRING : data type/data structure in python : \n",
    "\n",
    "s = 'python'\n",
    "print(type(s))\n",
    "\n",
    "a= \"python is 'good' language\";\n",
    "a"
   ]
  },
  {
   "cell_type": "code",
   "execution_count": 110,
   "id": "a122ecfd-c49c-4d06-9824-b27e5185ca99",
   "metadata": {},
   "outputs": [
    {
     "name": "stdout",
     "output_type": "stream",
     "text": [
      "PYTHON\n",
      "python\n",
      "Python\n",
      "Python Is Good Language\n",
      "PYThon\n",
      "True\n",
      "True\n",
      "False\n",
      "Before removing space :        python\n",
      "After removing space :  python\n",
      "Before removing space :  python         \n",
      "After removing space :  python\n",
      "Addition of 10 and 20 is 30\n",
      "Addition of {a} and {b} is {c}\n"
     ]
    },
    {
     "data": {
      "text/plain": [
       "-1"
      ]
     },
     "execution_count": 110,
     "metadata": {},
     "output_type": "execute_result"
    }
   ],
   "source": [
    "#operation perform on string : \n",
    "\n",
    "#Upper() : \n",
    "s = 'python'\n",
    "print(s.upper())\n",
    "\n",
    "#Lower() : \n",
    "s = 'python'\n",
    "print(s.lower())\n",
    "\n",
    "#Capitalize()  #first letter capital\n",
    "s='python'\n",
    "print(s.capitalize())\n",
    "\n",
    "#Title() : \n",
    "a = 'python is good language'\n",
    "print(a.title())\n",
    "\n",
    "#swapcase() : \n",
    "a = 'pytHON'\n",
    "print(a.swapcase())\n",
    "\n",
    "#startswith() and endswith() : \n",
    "text=\"Hello , world\"\n",
    "print(text.startswith(\"Hello\"))\n",
    "\n",
    "#endswith\n",
    "print(text.endswith(\"world\"))  #true\n",
    "print(text.endswith(\"Hello\"))  #false\n",
    "\n",
    "#split : \n",
    "text = \"sanchitpadwal96@gmail.com\"\n",
    "text.split(\"@\")\n",
    "text.split(\"@\")[0]\n",
    "\n",
    "#Strip : \n",
    "text = \"  python\"\n",
    "text.split()\n",
    "\n",
    "a = '      python'\n",
    "print(\"Before removing space : \" , a)\n",
    "print(\"After removing space : \" , a.lstrip())\n",
    "\n",
    "a = 'python         '\n",
    "print(\"Before removing space : \" , a)\n",
    "print(\"After removing space : \" , a.rstrip())\n",
    "\n",
    "#How to inject dynamic content inside string :\n",
    "\n",
    "#format()\n",
    "a = 10\n",
    "b = 20\n",
    "c = 30\n",
    "print(\"Addition of {} and {} is {}\".format(a,b,c))\n",
    "\n",
    "#fstring() \n",
    "a=10\n",
    "b=20\n",
    "c=30\n",
    "print(\"Addition of {a} and {b} is {c}\")\n",
    "\n",
    "\n",
    "#find() : \n",
    "\n",
    "a = 'python'\n",
    "a.find('t')\n",
    "a.find('s')  #give output -1 \n"
   ]
  },
  {
   "cell_type": "code",
   "execution_count": 121,
   "id": "557adbd5-2fc7-4450-9386-6811887ca81f",
   "metadata": {},
   "outputs": [
    {
     "data": {
      "text/plain": [
       "True"
      ]
     },
     "execution_count": 121,
     "metadata": {},
     "output_type": "execute_result"
    }
   ],
   "source": [
    "#input method : \n",
    "\n",
    "# a = input(\"Enter the name : \")\n",
    "# a\n",
    "# type(a)  #type is str\n",
    "\n",
    "# a = input(\"Enter the name : \")  #write a 19395\n",
    "# a\n",
    "# type(a)    # type is also str ,  bcz bydefault type is string  so using typecasting convert string to int\n",
    "\n",
    "# #string to int\n",
    "# a = int(input('Enter the name : '))\n",
    "# a\n",
    "# type(a)  # type is int\n",
    "\n",
    "#float to string\n",
    "\n",
    "# #isalpha() : \n",
    "# a = \"abc\"\n",
    "# print(a.isalpha())  #true , all character in the string \n",
    "\n",
    "# a = '145'\n",
    "# print(a.isnumeric())\n",
    "\n",
    "#isalnum()\n",
    "# a = \"123python\" \n",
    "# a.isalnum()"
   ]
  },
  {
   "cell_type": "code",
   "execution_count": 8,
   "id": "c4959649-14ef-44f5-a498-dbfda3273e04",
   "metadata": {},
   "outputs": [
    {
     "data": {
      "text/plain": [
       "'123'"
      ]
     },
     "execution_count": 8,
     "metadata": {},
     "output_type": "execute_result"
    }
   ],
   "source": [
    "#Type casting  : convert single data type to another data type\n",
    "\n",
    "# manually - programmer does the manual conversion\n",
    "# Automatic - compiler perform the automatic conversion\n",
    "\n",
    "# c = '123'\n",
    "# int(c)\n",
    "# type(c)\n",
    "\n",
    "#alphabetic string cannot convert into int/float but all float/int convert into string\n",
    "\n",
    "# c = 123\n",
    "# str(c)\n",
    "\n",
    "\n",
    "# d = 'python'\n",
    "# int(d)  # give error bcz alphabet to numeric not possible\n",
    "\n"
   ]
  },
  {
   "cell_type": "code",
   "execution_count": 11,
   "id": "85eb8b38-be05-48c7-9823-3a1980d29d1d",
   "metadata": {},
   "outputs": [
    {
     "name": "stdout",
     "output_type": "stream",
     "text": [
      "<class 'float'>\n"
     ]
    }
   ],
   "source": [
    "#converting data structure : \n",
    "\n",
    "#list to tuple :\n",
    "\n",
    "# a=[10,20,30,40,50]\n",
    "# tuple(a)\n",
    "\n",
    "#dict to other data structure not possible is key:value pair\n",
    "\n",
    "a = '10.30'    #string numeric\n",
    "c = float(a)\n",
    "print(type(c))\n",
    "\n",
    "\n"
   ]
  },
  {
   "cell_type": "code",
   "execution_count": 26,
   "id": "11a565d4-28c6-4913-a0b0-926623f659c7",
   "metadata": {},
   "outputs": [
    {
     "data": {
      "text/plain": [
       "'nohtyp'"
      ]
     },
     "execution_count": 26,
     "metadata": {},
     "output_type": "execute_result"
    }
   ],
   "source": [
    "#SLICING : Slicing in the string \n",
    "\n",
    "#syntax :   a[start:end:step]\n",
    "\n",
    "# a = 'python'\n",
    "# a[0:3:1]\n",
    "\n",
    "\n",
    "a = 'python'\n",
    "a[2:4:1]\n",
    "\n",
    "a = 'python'   # reverse string\n",
    "a[-1::-1]\n",
    "\n",
    "a='python'   # reverse string\n",
    "a[::-1]"
   ]
  },
  {
   "cell_type": "code",
   "execution_count": null,
   "id": "551c9d08-fbc8-49dd-93d3-1da9ab0f9d8c",
   "metadata": {},
   "outputs": [],
   "source": [
    "#Operator : \n",
    "\n"
   ]
  },
  {
   "cell_type": "code",
   "execution_count": null,
   "id": "8958fbc5-9418-40ef-89e4-663eaed76ace",
   "metadata": {},
   "outputs": [],
   "source": []
  },
  {
   "cell_type": "code",
   "execution_count": null,
   "id": "4e2065d0-6a8a-49b7-b91f-359920ad80d6",
   "metadata": {},
   "outputs": [],
   "source": []
  },
  {
   "cell_type": "code",
   "execution_count": null,
   "id": "5d68a6a0-609d-4ad3-9b78-955c68184918",
   "metadata": {},
   "outputs": [],
   "source": []
  },
  {
   "cell_type": "code",
   "execution_count": null,
   "id": "a6eb451d-3270-45de-a040-54b7cc2f3d3c",
   "metadata": {},
   "outputs": [],
   "source": []
  },
  {
   "cell_type": "code",
   "execution_count": null,
   "id": "8cad9517-71e4-4a73-a5eb-9ae80e7aa90d",
   "metadata": {},
   "outputs": [],
   "source": []
  },
  {
   "cell_type": "code",
   "execution_count": null,
   "id": "be44d866-b344-4591-b485-f3e9d03fdf84",
   "metadata": {},
   "outputs": [],
   "source": []
  },
  {
   "cell_type": "code",
   "execution_count": null,
   "id": "fe575135-8801-4a29-a9eb-c809406fc8cd",
   "metadata": {},
   "outputs": [],
   "source": []
  },
  {
   "cell_type": "code",
   "execution_count": null,
   "id": "129eb593-54cf-4568-82ac-695eabcaf895",
   "metadata": {},
   "outputs": [],
   "source": []
  },
  {
   "cell_type": "code",
   "execution_count": null,
   "id": "0bd8cb12-3973-4e97-b543-82ea807910e2",
   "metadata": {},
   "outputs": [],
   "source": []
  },
  {
   "cell_type": "code",
   "execution_count": null,
   "id": "3e87c115-4722-4c0d-8cc6-d3e012dd3547",
   "metadata": {},
   "outputs": [],
   "source": []
  },
  {
   "cell_type": "code",
   "execution_count": null,
   "id": "dd793049-9dcf-4079-ae27-45e96d3c7ef8",
   "metadata": {},
   "outputs": [],
   "source": []
  }
 ],
 "metadata": {
  "kernelspec": {
   "display_name": "Python 3 (ipykernel)",
   "language": "python",
   "name": "python3"
  },
  "language_info": {
   "codemirror_mode": {
    "name": "ipython",
    "version": 3
   },
   "file_extension": ".py",
   "mimetype": "text/x-python",
   "name": "python",
   "nbconvert_exporter": "python",
   "pygments_lexer": "ipython3",
   "version": "3.11.7"
  }
 },
 "nbformat": 4,
 "nbformat_minor": 5
}
